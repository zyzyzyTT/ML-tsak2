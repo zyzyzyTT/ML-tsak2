{
 "cells": [
  {
   "cell_type": "code",
   "execution_count": 3,
   "metadata": {
    "collapsed": true
   },
   "outputs": [],
   "source": [
    "import requests\n",
    "# get data\n",
    "r = requests.get(\"https://www.csie.ntu.edu.tw/~cjlin/libsvmtools/datasets/binary/a9a.t\")\n",
    "r1=requests.get(\"https://www.csie.ntu.edu.tw/~cjlin/libsvmtools/datasets/binary/a9a\")"
   ]
  },
  {
   "cell_type": "code",
   "execution_count": 4,
   "metadata": {},
   "outputs": [],
   "source": [
    "from io import BytesIO\n",
    "import numpy as np\n",
    "from sklearn.datasets import load_svmlight_file\n",
    "# load the data and preprocess them\n",
    "data=load_svmlight_file(BytesIO(r1.content))\n",
    "x_train,y_train=data[0].todense(),data[1].reshape(len(data[1]),-1)\n",
    "data=load_svmlight_file(BytesIO(r.content))\n",
    "x_valid,y_valid=data[0].todense(),data[1].reshape(len(data[1]),-1)\n",
    "n, m= np.shape(x_train)\n",
    "p, _ = np.shape(x_valid)\n",
    "x_valid=np.column_stack((x_valid,np.zeros(p)))\n"
   ]
  },
  {
   "cell_type": "code",
   "execution_count": 5,
   "metadata": {},
   "outputs": [],
   "source": [
    "# define some vital parameters\n",
    "epochs=600\n",
    "batch_size=256\n",
    "# initialize some parameters\n",
    "grad_w = np.zeros((m,1))\n",
    "grad_b=0\n",
    "mom = np.zeros((m, 1))\n",
    "w = np.random.rand(m+1, 1)\n",
    "b = w[0][0]\n",
    "w=w[1:m+1]"
   ]
  },
  {
   "cell_type": "code",
   "execution_count": 6,
   "metadata": {},
   "outputs": [],
   "source": [
    "def sign(x):\n",
    "    if x>0:\n",
    "        return 1\n",
    "    elif x<0:\n",
    "        return -1\n",
    "    else:\n",
    "        return 0"
   ]
  },
  {
   "cell_type": "code",
   "execution_count": 7,
   "metadata": {},
   "outputs": [],
   "source": [
    "# define other parameters\n",
    "lamb=0.1\n",
    "alpha=0.1\n",
    "beta1=0.9\n",
    "beta2=0.999\n",
    "eps=1e-8"
   ]
  },
  {
   "cell_type": "code",
   "execution_count": 8,
   "metadata": {},
   "outputs": [],
   "source": [
    "# define and initialize \n",
    "epoch_set=[]\n",
    "l_adam=[]\n",
    "acc_adam=[]\n",
    "grad_w = np.zeros((m, 1))\n",
    "w = np.random.rand(m+1, 1)\n",
    "b = w[0][0]\n",
    "w=w[1:m+1]\n",
    "mom = np.zeros((m, 1))\n",
    "s = np.zeros((m, 1))\n",
    "mom_b=0\n",
    "sb=0"
   ]
  },
  {
   "cell_type": "code",
   "execution_count": 9,
   "metadata": {},
   "outputs": [],
   "source": [
    "import math\n",
    "import random\n",
    "for ep in range(epochs+1):\n",
    "    # training and optimize\n",
    "    batch_st=random.randint(0,n-batch_size-1)\n",
    "    for j in range(batch_st,batch_st+batch_size):\n",
    "        theta=1-y_train[j]*(x_train[j]*w+b)\n",
    "        if theta < 0:\n",
    "            grad_w += w\n",
    "            grad_b += 0\n",
    "        else:\n",
    "            grad_w += w-lamb*(y_train[j]*x_train[j]).T\n",
    "            grad_b += -lamb*y_train[j]\n",
    "    grad_w=grad_w/batch_size\n",
    "    grad_b=grad_b/batch_size\n",
    "    mom=beta1*mom+(1-beta1)*grad_w\n",
    "    s=beta2*s+np.multiply((1-beta2)*grad_w,grad_w)\n",
    "    mom_b=beta1*mom_b+(1-beta1)*grad_b\n",
    "    sb=beta2*sb+(1-beta2)*grad_b*grad_b\n",
    "    w = w - alpha*mom/(np.sqrt(s)+eps)\n",
    "    b = b - alpha*mom_b/(math.sqrt(sb)+eps)\n",
    "\n",
    "    if ep%10==0:\n",
    "        epoch_set.append(ep)\n",
    "        hinge_loss=0.0\n",
    "        res=0\n",
    "        for i in range(p):\n",
    "            tmp = np.asarray(1.0 - y_valid[i] * (x_valid[i] *w+b))\n",
    "            theta = max(tmp[0][0], 0)\n",
    "            hinge_loss+=theta\n",
    "            if sign(x_valid[i]*w+b)==y_valid[i]:\n",
    "                res+=1\n",
    "        loss=np.sum(np.square(w))/2+lamb*hinge_loss/p\n",
    "        l_adam.append(loss)\n",
    "        acc_adam.append(res/p)"
   ]
  },
  {
   "cell_type": "code",
   "execution_count": 13,
   "metadata": {},
   "outputs": [
    {
     "name": "stderr",
     "output_type": "stream",
     "text": [
      "No handles with labels found to put in legend.\n"
     ]
    },
    {
     "data": {
      "text/plain": [
       "<matplotlib.legend.Legend at 0x248e15cb518>"
      ]
     },
     "execution_count": 13,
     "metadata": {},
     "output_type": "execute_result"
    },
    {
     "data": {
      "image/png": "[encoded data removed]",
      "text/plain": [
       "<Figure size 576x1152 with 1 Axes>"
      ]
     },
     "metadata": {},
     "output_type": "display_data"
    }
   ],
   "source": [
    "# output the result\n",
    "import matplotlib.pyplot as plt\n",
    "plt.figure(figsize=(8,16))\n",
    "plt.subplot(211)\n",
    "plt.xlabel('epochs')\n",
    "plt.ylabel('Lvalidation')\n",
    "plt.plot(epoch_set,l_adam,color='g',linewidth=2,linestyle='-')\n",
    "plt.yscale('log')\n",
    "plt.legend()\n"
   ]
  },
  {
   "cell_type": "code",
   "execution_count": null,
   "metadata": {},
   "outputs": [],
   "source": []
  }
 ],
 "metadata": {
  "kernelspec": {
   "display_name": "Python 2",
   "language": "python",
   "name": "python2"
  },
  "language_info": {
   "codemirror_mode": {
    "name": "ipython",
    "version": 2
   },
   "file_extension": ".py",
   "mimetype": "text/x-python",
   "name": "python",
   "nbconvert_exporter": "python",
   "pygments_lexer": "ipython2",
   "version": "2.7.6"
  }
 },
 "nbformat": 4,
 "nbformat_minor": 0
}
