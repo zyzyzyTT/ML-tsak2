{
 "cells": [
  {
   "cell_type": "code",
   "execution_count": 2,
   "metadata": {
    "collapsed": true
   },
   "outputs": [
    {
     "name": "stdout",
     "output_type": "stream",
     "text": [
      "(<32561x123 sparse matrix of type '<class 'numpy.float64'>'\n\twith 451592 stored elements in Compressed Sparse Row format>, array([-1., -1., -1., ..., -1., -1.,  1.]))\n"
     ]
    }
   ],
   "source": [
    "import requests\n",
    "from sklearn.datasets import load_svmlight_file\n",
    "import numpy as np\n",
    "# get the data\n",
    "r = requests.get(\"https://www.csie.ntu.edu.tw/~cjlin/libsvmtools/datasets/binary/a9a.t\")\n",
    "r1=requests.get(\"https://www.csie.ntu.edu.tw/~cjlin/libsvmtools/datasets/binary/a9a\")\n",
    "from io import BytesIO\n",
    "\n",
    "# load data\n",
    "data=load_svmlight_file(BytesIO(r1.content))\n",
    "print(data)\n",
    "data[1][np.where(data[1]==-1)]=0\n",
    "x_train,y_train=data[0].todense(),data[1].reshape(len(data[1]),-1)\n",
    "data=load_svmlight_file(BytesIO(r.content))\n",
    "data[1][np.where(data[1]==-1)]=0\n",
    "x_valid,y_valid=data[0].todense(),data[1].reshape(len(data[1]),-1)\n"
   ]
  },
  {
   "cell_type": "code",
   "execution_count": 2,
   "metadata": {},
   "outputs": [],
   "source": [
    "# preprocess\n",
    "n, m= np.shape(x_train)\n",
    "x_train=np.column_stack((np.ones(n), x_train))\n",
    "p, k = np.shape(x_valid)\n",
    "x_valid=np.column_stack((x_valid,np.zeros(p)))\n",
    "x_valid=np.column_stack((np.ones(p), x_valid))"
   ]
  },
  {
   "cell_type": "code",
   "execution_count": 9,
   "metadata": {},
   "outputs": [],
   "source": [
    "# define some important parameters\n",
    "batch_size=300\n",
    "epochs=600\n",
    "alpha=0.1\n",
    "beta1=0.9\n",
    "beta2=0.999\n",
    "eps=1e-8"
   ]
  },
  {
   "cell_type": "code",
   "execution_count": 10,
   "metadata": {},
   "outputs": [],
   "source": [
    "# initialize some parameters\n",
    "epoch_set=[]\n",
    "l_adam=[]\n",
    "grad = np.zeros((m+1, 1))\n",
    "w = np.random.rand(m+1, 1)\n",
    "mom = np.zeros((m+1, 1))\n",
    "s = np.zeros((m+1, 1))"
   ]
  },
  {
   "cell_type": "code",
   "execution_count": 11,
   "metadata": {},
   "outputs": [],
   "source": [
    "def labeling(x):\n",
    "    if x>=0.5:\n",
    "        return 1\n",
    "    else:\n",
    "        return 0"
   ]
  },
  {
   "cell_type": "code",
   "execution_count": 12,
   "metadata": {},
   "outputs": [],
   "source": [
    "import random\n",
    "# training and optimize\n",
    "for ep in range(epochs+1):\n",
    "    # training\n",
    "    st=random.randint(0,n-batch_size-1)\n",
    "    for j in range(st,st+batch_size):\n",
    "        h=1/(1+np.exp(-x_train[j]*w))\n",
    "        grad +=((h-y_train[j])*x_train[j]).T\n",
    "    grad=grad/batch_size\n",
    "    mom=beta1*mom+(1-beta1)*grad\n",
    "    s=beta2*s+np.multiply((1-beta2)*grad,grad)\n",
    "    w = w - alpha*mom/(np.sqrt(s)+eps)\n",
    "    \n",
    "    if ep%10==0:\n",
    "        epoch_set.append(ep)\n",
    "        loss=0.0\n",
    "        res=0\n",
    "        for i in range(p):\n",
    "            h=1/(1+np.exp(-x_valid[i]*w))\n",
    "            loss+=(y_valid[i]*np.log(h)+(1-y_valid[i])*np.log(1-h))\n",
    "            if labeling(h)==y_valid[i]:\n",
    "                res=res+1\n",
    "        loss=np.asarray(-loss/p)\n",
    "        l_adam.append(loss[0][0])"
   ]
  },
  {
   "cell_type": "code",
   "execution_count": 18,
   "metadata": {},
   "outputs": [
    {
     "name": "stderr",
     "output_type": "stream",
     "text": [
      "No handles with labels found to put in legend.\n"
     ]
    },
    {
     "data": {
      "text/plain": [
       "<matplotlib.legend.Legend at 0x275e5dd3c50>"
      ]
     },
     "execution_count": 18,
     "metadata": {},
     "output_type": "execute_result"
    },
    {
     "data": {
      "image/png": "[encoded data removed]",
      "text/plain": [
       "<Figure size 576x1152 with 1 Axes>"
      ]
     },
     "metadata": {},
     "output_type": "display_data"
    }
   ],
   "source": [
    "# output the result\n",
    "import matplotlib.pyplot as plt\n",
    "plt.figure(figsize=(8,16))\n",
    "plt.subplot(211)\n",
    "plt.xlabel('epochs')\n",
    "plt.ylabel('Lvalidation')\n",
    "plt.plot(epoch_set,l_adam,color='r',linewidth=2,linestyle='-')\n",
    "plt.yscale('log')\n",
    "plt.legend()\n"
   ]
  },
  {
   "cell_type": "code",
   "execution_count": null,
   "metadata": {},
   "outputs": [],
   "source": []
  }
 ],
 "metadata": {
  "kernelspec": {
   "display_name": "Python 2",
   "language": "python",
   "name": "python2"
  },
  "language_info": {
   "codemirror_mode": {
    "name": "ipython",
    "version": 2
   },
   "file_extension": ".py",
   "mimetype": "text/x-python",
   "name": "python",
   "nbconvert_exporter": "python",
   "pygments_lexer": "ipython2",
   "version": "2.7.6"
  }
 },
 "nbformat": 4,
 "nbformat_minor": 0
}
